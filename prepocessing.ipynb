{
  "nbformat": 4,
  "nbformat_minor": 0,
  "metadata": {
    "colab": {
      "name": "A11.2018.11342.ipynb",
      "provenance": [],
      "collapsed_sections": [],
      "toc_visible": true
    },
    "kernelspec": {
      "display_name": "Python 3",
      "name": "python3"
    }
  },
  "cells": [
    {
      "cell_type": "code",
      "metadata": {
        "id": "vSERCe_LpYW_"
      },
      "source": [
        "import numpy as np\n",
        "import matplotlib.pyplot as plt\n",
        "import pandas as pd"
      ],
      "execution_count": 41,
      "outputs": []
    },
    {
      "cell_type": "code",
      "metadata": {
        "id": "I4w3wKfUrhyW"
      },
      "source": [
        "dataset = pd.read_csv('Data.csv')\n",
        "x = dataset.iloc[:, :-1].values\n",
        "y = dataset.iloc[:, -1].values"
      ],
      "execution_count": 42,
      "outputs": []
    },
    {
      "cell_type": "code",
      "metadata": {
        "colab": {
          "base_uri": "https://localhost:8080/"
        },
        "id": "EwiXpa86xSi2",
        "outputId": "7fff10eb-701d-4e0c-a2fa-b0d746fbda93"
      },
      "source": [
        "print(x)"
      ],
      "execution_count": 43,
      "outputs": [
        {
          "output_type": "stream",
          "text": [
            "[['Vans' 40 79000]\n",
            " ['Converse' 39 91000]\n",
            " ['Adidas' 36 61000]\n",
            " ['Converse' 38 61000]\n",
            " ['Adidas' 39 85000]\n",
            " ['Vans' 37 70000]\n",
            " ['Converse' 41 92000]\n",
            " ['Vans' 42 75000]\n",
            " ['Adidas' 41 83000]\n",
            " ['France' 37 67000]]\n"
          ],
          "name": "stdout"
        }
      ]
    },
    {
      "cell_type": "code",
      "metadata": {
        "colab": {
          "base_uri": "https://localhost:8080/"
        },
        "id": "nZqNYeMSxw2O",
        "outputId": "101382e1-1264-445b-df52-3d703d069da9"
      },
      "source": [
        "print(y)"
      ],
      "execution_count": 44,
      "outputs": [
        {
          "output_type": "stream",
          "text": [
            "['No' 'Yes' 'No' 'No' 'Yes' 'Yes' 'No' 'Yes' 'No' 'Yes']\n"
          ],
          "name": "stdout"
        }
      ]
    },
    {
      "cell_type": "code",
      "metadata": {
        "id": "kdagCzB90HKU"
      },
      "source": [
        "from sklearn.impute import SimpleImputer\n",
        "impute = SimpleImputer(missing_values=np.nan, strategy='mean')\n",
        "impute.fit(x[:, 1:3])\n",
        "x[:, 1:3] = impute.transform(x[:, 1:3])"
      ],
      "execution_count": 45,
      "outputs": []
    },
    {
      "cell_type": "code",
      "metadata": {
        "colab": {
          "base_uri": "https://localhost:8080/"
        },
        "id": "grc5JoQK0Ml1",
        "outputId": "55d8abe1-7d60-4f92-95de-7b5f11dbdbca"
      },
      "source": [
        "print(x)"
      ],
      "execution_count": 46,
      "outputs": [
        {
          "output_type": "stream",
          "text": [
            "[['Vans' 40.0 79000.0]\n",
            " ['Converse' 39.0 91000.0]\n",
            " ['Adidas' 36.0 61000.0]\n",
            " ['Converse' 38.0 61000.0]\n",
            " ['Adidas' 39.0 85000.0]\n",
            " ['Vans' 37.0 70000.0]\n",
            " ['Converse' 41.0 92000.0]\n",
            " ['Vans' 42.0 75000.0]\n",
            " ['Adidas' 41.0 83000.0]\n",
            " ['France' 37.0 67000.0]]\n"
          ],
          "name": "stdout"
        }
      ]
    },
    {
      "cell_type": "code",
      "metadata": {
        "id": "eZPDIeG-0U7O"
      },
      "source": [
        "from sklearn.compose import ColumnTransformer\n",
        "from sklearn.preprocessing import OneHotEncoder\n",
        "ct = ColumnTransformer(transformers=[('encoder', OneHotEncoder(), [0])], remainder='passthrough')\n",
        "x = np.array(ct.fit_transform(x))"
      ],
      "execution_count": 47,
      "outputs": []
    },
    {
      "cell_type": "code",
      "metadata": {
        "colab": {
          "base_uri": "https://localhost:8080/"
        },
        "id": "_EL_P4h_0ZBb",
        "outputId": "a4b6f96c-bdc7-48dd-f6cb-1d57384cc47c"
      },
      "source": [
        "print(x)"
      ],
      "execution_count": 48,
      "outputs": [
        {
          "output_type": "stream",
          "text": [
            "[[0.0 0.0 0.0 1.0 40.0 79000.0]\n",
            " [0.0 1.0 0.0 0.0 39.0 91000.0]\n",
            " [1.0 0.0 0.0 0.0 36.0 61000.0]\n",
            " [0.0 1.0 0.0 0.0 38.0 61000.0]\n",
            " [1.0 0.0 0.0 0.0 39.0 85000.0]\n",
            " [0.0 0.0 0.0 1.0 37.0 70000.0]\n",
            " [0.0 1.0 0.0 0.0 41.0 92000.0]\n",
            " [0.0 0.0 0.0 1.0 42.0 75000.0]\n",
            " [1.0 0.0 0.0 0.0 41.0 83000.0]\n",
            " [0.0 0.0 1.0 0.0 37.0 67000.0]]\n"
          ],
          "name": "stdout"
        }
      ]
    },
    {
      "cell_type": "code",
      "metadata": {
        "id": "It2SphIn0c2s"
      },
      "source": [
        "from sklearn.preprocessing import LabelEncoder\n",
        "le = LabelEncoder()\n",
        "y = le.fit_transform(y)"
      ],
      "execution_count": 49,
      "outputs": []
    },
    {
      "cell_type": "code",
      "metadata": {
        "colab": {
          "base_uri": "https://localhost:8080/"
        },
        "id": "iQUOKekq0dil",
        "outputId": "5a60a824-fc7f-44eb-829c-5a866247a79b"
      },
      "source": [
        "print(y)"
      ],
      "execution_count": 50,
      "outputs": [
        {
          "output_type": "stream",
          "text": [
            "[0 1 0 0 1 1 0 1 0 1]\n"
          ],
          "name": "stdout"
        }
      ]
    },
    {
      "cell_type": "code",
      "metadata": {
        "id": "EbutKV3l0f8V"
      },
      "source": [
        "from sklearn.model_selection import train_test_split\n",
        "x_train, x_test, y_train, y_test = train_test_split(x, y, test_size=0.2, random_state=1)"
      ],
      "execution_count": 51,
      "outputs": []
    },
    {
      "cell_type": "code",
      "metadata": {
        "colab": {
          "base_uri": "https://localhost:8080/"
        },
        "id": "S8NpK96E0iYr",
        "outputId": "30a49779-917d-4366-df93-7ed931972597"
      },
      "source": [
        "print(x_train)"
      ],
      "execution_count": 52,
      "outputs": [
        {
          "output_type": "stream",
          "text": [
            "[[0.0 1.0 0.0 0.0 41.0 92000.0]\n",
            " [1.0 0.0 0.0 0.0 39.0 85000.0]\n",
            " [0.0 0.0 0.0 1.0 40.0 79000.0]\n",
            " [0.0 1.0 0.0 0.0 38.0 61000.0]\n",
            " [0.0 1.0 0.0 0.0 39.0 91000.0]\n",
            " [0.0 0.0 0.0 1.0 42.0 75000.0]\n",
            " [1.0 0.0 0.0 0.0 41.0 83000.0]\n",
            " [0.0 0.0 0.0 1.0 37.0 70000.0]]\n"
          ],
          "name": "stdout"
        }
      ]
    },
    {
      "cell_type": "code",
      "metadata": {
        "colab": {
          "base_uri": "https://localhost:8080/"
        },
        "id": "f7stNRjX0kOU",
        "outputId": "73cd5c4e-5c61-4645-9ac5-b904e0232b3f"
      },
      "source": [
        "print(x_test)"
      ],
      "execution_count": 53,
      "outputs": [
        {
          "output_type": "stream",
          "text": [
            "[[1.0 0.0 0.0 0.0 36.0 61000.0]\n",
            " [0.0 0.0 1.0 0.0 37.0 67000.0]]\n"
          ],
          "name": "stdout"
        }
      ]
    },
    {
      "cell_type": "code",
      "metadata": {
        "colab": {
          "base_uri": "https://localhost:8080/"
        },
        "id": "1dQYFddb0l8c",
        "outputId": "6a0473b1-3791-46aa-e74e-6f970e3a9c7c"
      },
      "source": [
        "print(y_train)"
      ],
      "execution_count": 54,
      "outputs": [
        {
          "output_type": "stream",
          "text": [
            "[0 1 0 0 1 1 0 1]\n"
          ],
          "name": "stdout"
        }
      ]
    },
    {
      "cell_type": "code",
      "metadata": {
        "colab": {
          "base_uri": "https://localhost:8080/"
        },
        "id": "54Dzroud0pxF",
        "outputId": "d5e8679f-7ce3-4c6d-c20f-2da32234ae06"
      },
      "source": [
        "print(y_test)"
      ],
      "execution_count": 55,
      "outputs": [
        {
          "output_type": "stream",
          "text": [
            "[0 1]\n"
          ],
          "name": "stdout"
        }
      ]
    },
    {
      "cell_type": "code",
      "metadata": {
        "id": "7HOlGJUa0rq8"
      },
      "source": [
        "from sklearn.preprocessing import StandardScaler\n",
        "sc = StandardScaler()\n",
        "x_train[:, 3:] = sc.fit_transform(x_train[:, 3:])\n",
        "x_test[:, 3:] = sc.transform(x_test[:, 3:])"
      ],
      "execution_count": 56,
      "outputs": []
    },
    {
      "cell_type": "code",
      "metadata": {
        "colab": {
          "base_uri": "https://localhost:8080/"
        },
        "id": "dt9zrIMT0w0M",
        "outputId": "a39a922d-ac67-47df-87e0-4d21a45a9962"
      },
      "source": [
        "print(x_train)"
      ],
      "execution_count": 57,
      "outputs": [
        {
          "output_type": "stream",
          "text": [
            "[[0.0 1.0 0.0 -0.7745966692414834 0.8723567442899586 1.2626906806902634]\n",
            " [1.0 0.0 0.0 -0.7745966692414834 -0.3965257928590721 0.5555838995037159]\n",
            " [0.0 0.0 0.0 1.2909944487358056 0.23791547571544325 -0.05050762722761054]\n",
            " [0.0 1.0 0.0 -0.7745966692414834 -1.0309670614335873 -1.8687822074215898]\n",
            " [0.0 1.0 0.0 -0.7745966692414834 -0.3965257928590721 1.1616754262350424]\n",
            " [0.0 0.0 0.0 1.2909944487358056 1.5067980128644738 -0.45456864504849487]\n",
            " [1.0 0.0 0.0 -0.7745966692414834 0.8723567442899586 0.3535533905932738]\n",
            " [0.0 0.0 0.0 1.2909944487358056 -1.6654083300081026 -0.9596449173246002]]\n"
          ],
          "name": "stdout"
        }
      ]
    },
    {
      "cell_type": "code",
      "metadata": {
        "colab": {
          "base_uri": "https://localhost:8080/"
        },
        "id": "QcHxegmO0yIE",
        "outputId": "0e4b9364-5871-494c-ef7f-c5c64d9a264c"
      },
      "source": [
        "print(x_test)"
      ],
      "execution_count": 58,
      "outputs": [
        {
          "output_type": "stream",
          "text": [
            "[[1.0 0.0 0.0 -0.7745966692414834 -2.2998495985826177 -1.8687822074215898]\n",
            " [0.0 0.0 1.0 -0.7745966692414834 -1.6654083300081026 -1.2626906806902634]]\n"
          ],
          "name": "stdout"
        }
      ]
    }
  ]
}
